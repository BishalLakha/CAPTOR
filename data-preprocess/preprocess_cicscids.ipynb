{
 "cells": [
  {
   "cell_type": "code",
   "execution_count": 1,
   "metadata": {},
   "outputs": [],
   "source": [
    "import pandas as pd\n",
    "import glob\n",
    "import json\n"
   ]
  },
  {
   "cell_type": "code",
   "execution_count": 2,
   "metadata": {},
   "outputs": [],
   "source": [
    "df = pd.read_csv(\"../data/raw/ciccids/Monday-WorkingHours.pcap_ISCX.csv\")\n",
    "train_df = df[[' Timestamp',' Source IP', ' Destination IP', ' Label']]"
   ]
  },
  {
   "cell_type": "code",
   "execution_count": 3,
   "metadata": {},
   "outputs": [],
   "source": [
    "files = glob.glob('../data/raw/ciccids/*')\n",
    "selected_files = [file for file in files if 'Monday' not in file]"
   ]
  },
  {
   "cell_type": "code",
   "execution_count": 4,
   "metadata": {},
   "outputs": [
    {
     "name": "stderr",
     "output_type": "stream",
     "text": [
      "/tmp/ipykernel_2318780/4114924807.py:1: DtypeWarning: Columns (0,1,3,6,84) have mixed types. Specify dtype option on import or set low_memory=False.\n",
      "  df_test = pd.concat([pd.read_csv(file, encoding='ISO-8859-1') for file in selected_files])\n"
     ]
    }
   ],
   "source": [
    "df_test = pd.concat([pd.read_csv(file, encoding='ISO-8859-1') for file in selected_files])"
   ]
  },
  {
   "cell_type": "code",
   "execution_count": 5,
   "metadata": {},
   "outputs": [],
   "source": [
    "test_df = df_test[[' Timestamp',' Source IP', ' Destination IP', ' Label']]"
   ]
  },
  {
   "cell_type": "code",
   "execution_count": 6,
   "metadata": {},
   "outputs": [],
   "source": [
    "test_df = test_df.reset_index(drop=True)"
   ]
  },
  {
   "cell_type": "code",
   "execution_count": 7,
   "metadata": {},
   "outputs": [
    {
     "data": {
      "text/html": [
       "<div>\n",
       "<style scoped>\n",
       "    .dataframe tbody tr th:only-of-type {\n",
       "        vertical-align: middle;\n",
       "    }\n",
       "\n",
       "    .dataframe tbody tr th {\n",
       "        vertical-align: top;\n",
       "    }\n",
       "\n",
       "    .dataframe thead th {\n",
       "        text-align: right;\n",
       "    }\n",
       "</style>\n",
       "<table border=\"1\" class=\"dataframe\">\n",
       "  <thead>\n",
       "    <tr style=\"text-align: right;\">\n",
       "      <th></th>\n",
       "      <th>Timestamp</th>\n",
       "      <th>Source IP</th>\n",
       "      <th>Destination IP</th>\n",
       "      <th>Label</th>\n",
       "    </tr>\n",
       "  </thead>\n",
       "  <tbody>\n",
       "    <tr>\n",
       "      <th>0</th>\n",
       "      <td>5/7/2017 8:42</td>\n",
       "      <td>192.168.10.14</td>\n",
       "      <td>209.48.71.168</td>\n",
       "      <td>BENIGN</td>\n",
       "    </tr>\n",
       "    <tr>\n",
       "      <th>1</th>\n",
       "      <td>5/7/2017 8:42</td>\n",
       "      <td>192.168.10.17</td>\n",
       "      <td>192.168.10.3</td>\n",
       "      <td>BENIGN</td>\n",
       "    </tr>\n",
       "    <tr>\n",
       "      <th>2</th>\n",
       "      <td>5/7/2017 8:42</td>\n",
       "      <td>192.168.10.17</td>\n",
       "      <td>192.168.10.3</td>\n",
       "      <td>BENIGN</td>\n",
       "    </tr>\n",
       "    <tr>\n",
       "      <th>3</th>\n",
       "      <td>5/7/2017 8:42</td>\n",
       "      <td>192.168.10.17</td>\n",
       "      <td>192.168.10.3</td>\n",
       "      <td>BENIGN</td>\n",
       "    </tr>\n",
       "    <tr>\n",
       "      <th>4</th>\n",
       "      <td>5/7/2017 8:42</td>\n",
       "      <td>192.168.10.17</td>\n",
       "      <td>192.168.10.3</td>\n",
       "      <td>BENIGN</td>\n",
       "    </tr>\n",
       "  </tbody>\n",
       "</table>\n",
       "</div>"
      ],
      "text/plain": [
       "       Timestamp      Source IP  Destination IP   Label\n",
       "0  5/7/2017 8:42  192.168.10.14   209.48.71.168  BENIGN\n",
       "1  5/7/2017 8:42  192.168.10.17    192.168.10.3  BENIGN\n",
       "2  5/7/2017 8:42  192.168.10.17    192.168.10.3  BENIGN\n",
       "3  5/7/2017 8:42  192.168.10.17    192.168.10.3  BENIGN\n",
       "4  5/7/2017 8:42  192.168.10.17    192.168.10.3  BENIGN"
      ]
     },
     "execution_count": 7,
     "metadata": {},
     "output_type": "execute_result"
    }
   ],
   "source": [
    "test_df.head()"
   ]
  },
  {
   "cell_type": "code",
   "execution_count": 8,
   "metadata": {},
   "outputs": [
    {
     "name": "stdout",
     "output_type": "stream",
     "text": [
      "<class 'pandas.core.frame.DataFrame'>\n",
      "RangeIndex: 2589427 entries, 0 to 2589426\n",
      "Data columns (total 4 columns):\n",
      " #   Column           Dtype \n",
      "---  ------           ----- \n",
      " 0    Timestamp       object\n",
      " 1    Source IP       object\n",
      " 2    Destination IP  object\n",
      " 3    Label           object\n",
      "dtypes: object(4)\n",
      "memory usage: 79.0+ MB\n"
     ]
    }
   ],
   "source": [
    "test_df.info()"
   ]
  },
  {
   "cell_type": "code",
   "execution_count": 9,
   "metadata": {},
   "outputs": [
    {
     "data": {
      "text/plain": [
       " Timestamp         288602\n",
       " Source IP         288602\n",
       " Destination IP    288602\n",
       " Label             288602\n",
       "dtype: int64"
      ]
     },
     "execution_count": 9,
     "metadata": {},
     "output_type": "execute_result"
    }
   ],
   "source": [
    "test_df.isna().sum()"
   ]
  },
  {
   "cell_type": "code",
   "execution_count": 10,
   "metadata": {},
   "outputs": [],
   "source": [
    "test_df = test_df.dropna()"
   ]
  },
  {
   "cell_type": "code",
   "execution_count": 11,
   "metadata": {},
   "outputs": [],
   "source": [
    "test_df = test_df.reset_index(drop=True)"
   ]
  },
  {
   "cell_type": "code",
   "execution_count": 12,
   "metadata": {},
   "outputs": [
    {
     "data": {
      "text/plain": [
       "2300825"
      ]
     },
     "execution_count": 12,
     "metadata": {},
     "output_type": "execute_result"
    }
   ],
   "source": [
    "len(test_df)"
   ]
  },
  {
   "cell_type": "code",
   "execution_count": 13,
   "metadata": {},
   "outputs": [
    {
     "name": "stderr",
     "output_type": "stream",
     "text": [
      "/tmp/ipykernel_2318780/1021508022.py:2: SettingWithCopyWarning: \n",
      "A value is trying to be set on a copy of a slice from a DataFrame.\n",
      "Try using .loc[row_indexer,col_indexer] = value instead\n",
      "\n",
      "See the caveats in the documentation: https://pandas.pydata.org/pandas-docs/stable/user_guide/indexing.html#returning-a-view-versus-a-copy\n",
      "  train_df[' Label'] = train_df[' Label'].apply(lambda x: 0 if x == 'BENIGN' else 1)\n"
     ]
    }
   ],
   "source": [
    "test_df[' Label'] = test_df[' Label'].apply(lambda x: 0 if x == 'BENIGN' else 1)\n",
    "train_df[' Label'] = train_df[' Label'].apply(lambda x: 0 if x == 'BENIGN' else 1)"
   ]
  },
  {
   "cell_type": "code",
   "execution_count": 14,
   "metadata": {},
   "outputs": [
    {
     "data": {
      "text/html": [
       "<div>\n",
       "<style scoped>\n",
       "    .dataframe tbody tr th:only-of-type {\n",
       "        vertical-align: middle;\n",
       "    }\n",
       "\n",
       "    .dataframe tbody tr th {\n",
       "        vertical-align: top;\n",
       "    }\n",
       "\n",
       "    .dataframe thead th {\n",
       "        text-align: right;\n",
       "    }\n",
       "</style>\n",
       "<table border=\"1\" class=\"dataframe\">\n",
       "  <thead>\n",
       "    <tr style=\"text-align: right;\">\n",
       "      <th></th>\n",
       "      <th>Timestamp</th>\n",
       "      <th>Source IP</th>\n",
       "      <th>Destination IP</th>\n",
       "      <th>Label</th>\n",
       "    </tr>\n",
       "  </thead>\n",
       "  <tbody>\n",
       "    <tr>\n",
       "      <th>0</th>\n",
       "      <td>5/7/2017 8:42</td>\n",
       "      <td>192.168.10.14</td>\n",
       "      <td>209.48.71.168</td>\n",
       "      <td>0</td>\n",
       "    </tr>\n",
       "    <tr>\n",
       "      <th>1</th>\n",
       "      <td>5/7/2017 8:42</td>\n",
       "      <td>192.168.10.17</td>\n",
       "      <td>192.168.10.3</td>\n",
       "      <td>0</td>\n",
       "    </tr>\n",
       "    <tr>\n",
       "      <th>2</th>\n",
       "      <td>5/7/2017 8:42</td>\n",
       "      <td>192.168.10.17</td>\n",
       "      <td>192.168.10.3</td>\n",
       "      <td>0</td>\n",
       "    </tr>\n",
       "    <tr>\n",
       "      <th>3</th>\n",
       "      <td>5/7/2017 8:42</td>\n",
       "      <td>192.168.10.17</td>\n",
       "      <td>192.168.10.3</td>\n",
       "      <td>0</td>\n",
       "    </tr>\n",
       "    <tr>\n",
       "      <th>4</th>\n",
       "      <td>5/7/2017 8:42</td>\n",
       "      <td>192.168.10.17</td>\n",
       "      <td>192.168.10.3</td>\n",
       "      <td>0</td>\n",
       "    </tr>\n",
       "  </tbody>\n",
       "</table>\n",
       "</div>"
      ],
      "text/plain": [
       "       Timestamp      Source IP  Destination IP   Label\n",
       "0  5/7/2017 8:42  192.168.10.14   209.48.71.168       0\n",
       "1  5/7/2017 8:42  192.168.10.17    192.168.10.3       0\n",
       "2  5/7/2017 8:42  192.168.10.17    192.168.10.3       0\n",
       "3  5/7/2017 8:42  192.168.10.17    192.168.10.3       0\n",
       "4  5/7/2017 8:42  192.168.10.17    192.168.10.3       0"
      ]
     },
     "execution_count": 14,
     "metadata": {},
     "output_type": "execute_result"
    }
   ],
   "source": [
    "test_df.head()"
   ]
  },
  {
   "cell_type": "code",
   "execution_count": 15,
   "metadata": {},
   "outputs": [
    {
     "data": {
      "text/plain": [
       "557646"
      ]
     },
     "execution_count": 15,
     "metadata": {},
     "output_type": "execute_result"
    }
   ],
   "source": [
    "test_df[' Label'].sum()"
   ]
  },
  {
   "cell_type": "markdown",
   "metadata": {},
   "source": [
    "# Processing"
   ]
  },
  {
   "cell_type": "code",
   "execution_count": 17,
   "metadata": {},
   "outputs": [
    {
     "name": "stderr",
     "output_type": "stream",
     "text": [
      "/tmp/ipykernel_2318780/4092182896.py:2: SettingWithCopyWarning: \n",
      "A value is trying to be set on a copy of a slice from a DataFrame.\n",
      "Try using .loc[row_indexer,col_indexer] = value instead\n",
      "\n",
      "See the caveats in the documentation: https://pandas.pydata.org/pandas-docs/stable/user_guide/indexing.html#returning-a-view-versus-a-copy\n",
      "  train_df[' Timestamp'] = pd.to_datetime(train_df[' Timestamp'], format='%d/%m/%Y %H:%M:%S')\n"
     ]
    }
   ],
   "source": [
    "# train_df[' Timestamp'] = pd.to_datetime(train_df[' Timestamp'],format='%d/%m/%Y %H:%M')\n",
    "train_df[' Timestamp'] = pd.to_datetime(train_df[' Timestamp'], format='%d/%m/%Y %H:%M:%S')"
   ]
  },
  {
   "cell_type": "code",
   "execution_count": 18,
   "metadata": {},
   "outputs": [
    {
     "data": {
      "text/html": [
       "<div>\n",
       "<style scoped>\n",
       "    .dataframe tbody tr th:only-of-type {\n",
       "        vertical-align: middle;\n",
       "    }\n",
       "\n",
       "    .dataframe tbody tr th {\n",
       "        vertical-align: top;\n",
       "    }\n",
       "\n",
       "    .dataframe thead th {\n",
       "        text-align: right;\n",
       "    }\n",
       "</style>\n",
       "<table border=\"1\" class=\"dataframe\">\n",
       "  <thead>\n",
       "    <tr style=\"text-align: right;\">\n",
       "      <th></th>\n",
       "      <th>Timestamp</th>\n",
       "      <th>Source IP</th>\n",
       "      <th>Destination IP</th>\n",
       "      <th>Label</th>\n",
       "    </tr>\n",
       "  </thead>\n",
       "  <tbody>\n",
       "    <tr>\n",
       "      <th>0</th>\n",
       "      <td>2017-07-03 08:55:58</td>\n",
       "      <td>8.254.250.126</td>\n",
       "      <td>192.168.10.5</td>\n",
       "      <td>0</td>\n",
       "    </tr>\n",
       "    <tr>\n",
       "      <th>1</th>\n",
       "      <td>2017-07-03 08:55:58</td>\n",
       "      <td>8.254.250.126</td>\n",
       "      <td>192.168.10.5</td>\n",
       "      <td>0</td>\n",
       "    </tr>\n",
       "    <tr>\n",
       "      <th>2</th>\n",
       "      <td>2017-07-03 08:55:58</td>\n",
       "      <td>8.254.250.126</td>\n",
       "      <td>192.168.10.5</td>\n",
       "      <td>0</td>\n",
       "    </tr>\n",
       "    <tr>\n",
       "      <th>3</th>\n",
       "      <td>2017-07-03 08:55:58</td>\n",
       "      <td>8.254.250.126</td>\n",
       "      <td>192.168.10.5</td>\n",
       "      <td>0</td>\n",
       "    </tr>\n",
       "    <tr>\n",
       "      <th>4</th>\n",
       "      <td>2017-07-03 08:56:22</td>\n",
       "      <td>8.253.185.121</td>\n",
       "      <td>192.168.10.14</td>\n",
       "      <td>0</td>\n",
       "    </tr>\n",
       "  </tbody>\n",
       "</table>\n",
       "</div>"
      ],
      "text/plain": [
       "            Timestamp      Source IP  Destination IP   Label\n",
       "0 2017-07-03 08:55:58  8.254.250.126    192.168.10.5       0\n",
       "1 2017-07-03 08:55:58  8.254.250.126    192.168.10.5       0\n",
       "2 2017-07-03 08:55:58  8.254.250.126    192.168.10.5       0\n",
       "3 2017-07-03 08:55:58  8.254.250.126    192.168.10.5       0\n",
       "4 2017-07-03 08:56:22  8.253.185.121   192.168.10.14       0"
      ]
     },
     "execution_count": 18,
     "metadata": {},
     "output_type": "execute_result"
    }
   ],
   "source": [
    "train_df.head()"
   ]
  },
  {
   "cell_type": "code",
   "execution_count": 19,
   "metadata": {},
   "outputs": [],
   "source": [
    "train_df_sorted = train_df.sort_values(' Timestamp')"
   ]
  },
  {
   "cell_type": "code",
   "execution_count": 20,
   "metadata": {},
   "outputs": [],
   "source": [
    "test_df[' Timestamp'] = pd.to_datetime(test_df[' Timestamp'], format='%d/%m/%Y %H:%M')\n",
    "test_df_sorted = test_df.sort_values(' Timestamp')"
   ]
  },
  {
   "cell_type": "code",
   "execution_count": 21,
   "metadata": {},
   "outputs": [
    {
     "data": {
      "text/html": [
       "<div>\n",
       "<style scoped>\n",
       "    .dataframe tbody tr th:only-of-type {\n",
       "        vertical-align: middle;\n",
       "    }\n",
       "\n",
       "    .dataframe tbody tr th {\n",
       "        vertical-align: top;\n",
       "    }\n",
       "\n",
       "    .dataframe thead th {\n",
       "        text-align: right;\n",
       "    }\n",
       "</style>\n",
       "<table border=\"1\" class=\"dataframe\">\n",
       "  <thead>\n",
       "    <tr style=\"text-align: right;\">\n",
       "      <th></th>\n",
       "      <th>Timestamp</th>\n",
       "      <th>Source IP</th>\n",
       "      <th>Destination IP</th>\n",
       "      <th>Label</th>\n",
       "    </tr>\n",
       "  </thead>\n",
       "  <tbody>\n",
       "    <tr>\n",
       "      <th>196820</th>\n",
       "      <td>2017-07-03 01:00:01</td>\n",
       "      <td>192.168.10.3</td>\n",
       "      <td>192.168.10.1</td>\n",
       "      <td>0</td>\n",
       "    </tr>\n",
       "    <tr>\n",
       "      <th>193120</th>\n",
       "      <td>2017-07-03 01:00:01</td>\n",
       "      <td>23.194.182.12</td>\n",
       "      <td>192.168.10.25</td>\n",
       "      <td>0</td>\n",
       "    </tr>\n",
       "    <tr>\n",
       "      <th>193119</th>\n",
       "      <td>2017-07-03 01:00:01</td>\n",
       "      <td>192.168.10.25</td>\n",
       "      <td>23.194.182.12</td>\n",
       "      <td>0</td>\n",
       "    </tr>\n",
       "    <tr>\n",
       "      <th>427274</th>\n",
       "      <td>2017-07-03 01:00:01</td>\n",
       "      <td>192.168.10.25</td>\n",
       "      <td>192.168.10.3</td>\n",
       "      <td>0</td>\n",
       "    </tr>\n",
       "    <tr>\n",
       "      <th>193923</th>\n",
       "      <td>2017-07-03 01:00:01</td>\n",
       "      <td>8.6.0.1</td>\n",
       "      <td>8.0.6.4</td>\n",
       "      <td>0</td>\n",
       "    </tr>\n",
       "    <tr>\n",
       "      <th>...</th>\n",
       "      <td>...</td>\n",
       "      <td>...</td>\n",
       "      <td>...</td>\n",
       "      <td>...</td>\n",
       "    </tr>\n",
       "    <tr>\n",
       "      <th>193264</th>\n",
       "      <td>2017-07-03 12:59:55</td>\n",
       "      <td>192.168.10.25</td>\n",
       "      <td>52.84.145.27</td>\n",
       "      <td>0</td>\n",
       "    </tr>\n",
       "    <tr>\n",
       "      <th>409758</th>\n",
       "      <td>2017-07-03 12:59:55</td>\n",
       "      <td>172.217.10.70</td>\n",
       "      <td>192.168.10.25</td>\n",
       "      <td>0</td>\n",
       "    </tr>\n",
       "    <tr>\n",
       "      <th>193211</th>\n",
       "      <td>2017-07-03 12:59:55</td>\n",
       "      <td>192.168.10.25</td>\n",
       "      <td>172.217.10.70</td>\n",
       "      <td>0</td>\n",
       "    </tr>\n",
       "    <tr>\n",
       "      <th>194881</th>\n",
       "      <td>2017-07-03 12:59:56</td>\n",
       "      <td>192.168.10.14</td>\n",
       "      <td>192.168.10.3</td>\n",
       "      <td>0</td>\n",
       "    </tr>\n",
       "    <tr>\n",
       "      <th>198090</th>\n",
       "      <td>2017-07-03 12:59:58</td>\n",
       "      <td>192.168.10.17</td>\n",
       "      <td>138.68.46.177</td>\n",
       "      <td>0</td>\n",
       "    </tr>\n",
       "  </tbody>\n",
       "</table>\n",
       "<p>529918 rows × 4 columns</p>\n",
       "</div>"
      ],
      "text/plain": [
       "                 Timestamp      Source IP  Destination IP   Label\n",
       "196820 2017-07-03 01:00:01   192.168.10.3    192.168.10.1       0\n",
       "193120 2017-07-03 01:00:01  23.194.182.12   192.168.10.25       0\n",
       "193119 2017-07-03 01:00:01  192.168.10.25   23.194.182.12       0\n",
       "427274 2017-07-03 01:00:01  192.168.10.25    192.168.10.3       0\n",
       "193923 2017-07-03 01:00:01        8.6.0.1         8.0.6.4       0\n",
       "...                    ...            ...             ...     ...\n",
       "193264 2017-07-03 12:59:55  192.168.10.25    52.84.145.27       0\n",
       "409758 2017-07-03 12:59:55  172.217.10.70   192.168.10.25       0\n",
       "193211 2017-07-03 12:59:55  192.168.10.25   172.217.10.70       0\n",
       "194881 2017-07-03 12:59:56  192.168.10.14    192.168.10.3       0\n",
       "198090 2017-07-03 12:59:58  192.168.10.17   138.68.46.177       0\n",
       "\n",
       "[529918 rows x 4 columns]"
      ]
     },
     "execution_count": 21,
     "metadata": {},
     "output_type": "execute_result"
    }
   ],
   "source": [
    "train_df_sorted"
   ]
  },
  {
   "cell_type": "code",
   "execution_count": 22,
   "metadata": {},
   "outputs": [],
   "source": [
    "start_time = \"2017-07-03 01:00:01\""
   ]
  },
  {
   "cell_type": "code",
   "execution_count": 23,
   "metadata": {},
   "outputs": [],
   "source": [
    "least_timestamp = pd.to_datetime(start_time)"
   ]
  },
  {
   "cell_type": "code",
   "execution_count": 24,
   "metadata": {},
   "outputs": [],
   "source": [
    "train_df_sorted['snapshot'] = (train_df_sorted[' Timestamp'] - least_timestamp).dt.total_seconds() / 1\n",
    "train_df_sorted['snapshot'] = train_df_sorted['snapshot'].astype(int)"
   ]
  },
  {
   "cell_type": "code",
   "execution_count": 25,
   "metadata": {},
   "outputs": [
    {
     "data": {
      "text/html": [
       "<div>\n",
       "<style scoped>\n",
       "    .dataframe tbody tr th:only-of-type {\n",
       "        vertical-align: middle;\n",
       "    }\n",
       "\n",
       "    .dataframe tbody tr th {\n",
       "        vertical-align: top;\n",
       "    }\n",
       "\n",
       "    .dataframe thead th {\n",
       "        text-align: right;\n",
       "    }\n",
       "</style>\n",
       "<table border=\"1\" class=\"dataframe\">\n",
       "  <thead>\n",
       "    <tr style=\"text-align: right;\">\n",
       "      <th></th>\n",
       "      <th>Timestamp</th>\n",
       "      <th>Source IP</th>\n",
       "      <th>Destination IP</th>\n",
       "      <th>Label</th>\n",
       "      <th>snapshot</th>\n",
       "    </tr>\n",
       "  </thead>\n",
       "  <tbody>\n",
       "    <tr>\n",
       "      <th>196820</th>\n",
       "      <td>2017-07-03 01:00:01</td>\n",
       "      <td>192.168.10.3</td>\n",
       "      <td>192.168.10.1</td>\n",
       "      <td>0</td>\n",
       "      <td>0</td>\n",
       "    </tr>\n",
       "    <tr>\n",
       "      <th>193120</th>\n",
       "      <td>2017-07-03 01:00:01</td>\n",
       "      <td>23.194.182.12</td>\n",
       "      <td>192.168.10.25</td>\n",
       "      <td>0</td>\n",
       "      <td>0</td>\n",
       "    </tr>\n",
       "    <tr>\n",
       "      <th>193119</th>\n",
       "      <td>2017-07-03 01:00:01</td>\n",
       "      <td>192.168.10.25</td>\n",
       "      <td>23.194.182.12</td>\n",
       "      <td>0</td>\n",
       "      <td>0</td>\n",
       "    </tr>\n",
       "    <tr>\n",
       "      <th>427274</th>\n",
       "      <td>2017-07-03 01:00:01</td>\n",
       "      <td>192.168.10.25</td>\n",
       "      <td>192.168.10.3</td>\n",
       "      <td>0</td>\n",
       "      <td>0</td>\n",
       "    </tr>\n",
       "    <tr>\n",
       "      <th>193923</th>\n",
       "      <td>2017-07-03 01:00:01</td>\n",
       "      <td>8.6.0.1</td>\n",
       "      <td>8.0.6.4</td>\n",
       "      <td>0</td>\n",
       "      <td>0</td>\n",
       "    </tr>\n",
       "    <tr>\n",
       "      <th>...</th>\n",
       "      <td>...</td>\n",
       "      <td>...</td>\n",
       "      <td>...</td>\n",
       "      <td>...</td>\n",
       "      <td>...</td>\n",
       "    </tr>\n",
       "    <tr>\n",
       "      <th>193264</th>\n",
       "      <td>2017-07-03 12:59:55</td>\n",
       "      <td>192.168.10.25</td>\n",
       "      <td>52.84.145.27</td>\n",
       "      <td>0</td>\n",
       "      <td>43194</td>\n",
       "    </tr>\n",
       "    <tr>\n",
       "      <th>409758</th>\n",
       "      <td>2017-07-03 12:59:55</td>\n",
       "      <td>172.217.10.70</td>\n",
       "      <td>192.168.10.25</td>\n",
       "      <td>0</td>\n",
       "      <td>43194</td>\n",
       "    </tr>\n",
       "    <tr>\n",
       "      <th>193211</th>\n",
       "      <td>2017-07-03 12:59:55</td>\n",
       "      <td>192.168.10.25</td>\n",
       "      <td>172.217.10.70</td>\n",
       "      <td>0</td>\n",
       "      <td>43194</td>\n",
       "    </tr>\n",
       "    <tr>\n",
       "      <th>194881</th>\n",
       "      <td>2017-07-03 12:59:56</td>\n",
       "      <td>192.168.10.14</td>\n",
       "      <td>192.168.10.3</td>\n",
       "      <td>0</td>\n",
       "      <td>43195</td>\n",
       "    </tr>\n",
       "    <tr>\n",
       "      <th>198090</th>\n",
       "      <td>2017-07-03 12:59:58</td>\n",
       "      <td>192.168.10.17</td>\n",
       "      <td>138.68.46.177</td>\n",
       "      <td>0</td>\n",
       "      <td>43197</td>\n",
       "    </tr>\n",
       "  </tbody>\n",
       "</table>\n",
       "<p>529918 rows × 5 columns</p>\n",
       "</div>"
      ],
      "text/plain": [
       "                 Timestamp      Source IP  Destination IP   Label  snapshot\n",
       "196820 2017-07-03 01:00:01   192.168.10.3    192.168.10.1       0         0\n",
       "193120 2017-07-03 01:00:01  23.194.182.12   192.168.10.25       0         0\n",
       "193119 2017-07-03 01:00:01  192.168.10.25   23.194.182.12       0         0\n",
       "427274 2017-07-03 01:00:01  192.168.10.25    192.168.10.3       0         0\n",
       "193923 2017-07-03 01:00:01        8.6.0.1         8.0.6.4       0         0\n",
       "...                    ...            ...             ...     ...       ...\n",
       "193264 2017-07-03 12:59:55  192.168.10.25    52.84.145.27       0     43194\n",
       "409758 2017-07-03 12:59:55  172.217.10.70   192.168.10.25       0     43194\n",
       "193211 2017-07-03 12:59:55  192.168.10.25   172.217.10.70       0     43194\n",
       "194881 2017-07-03 12:59:56  192.168.10.14    192.168.10.3       0     43195\n",
       "198090 2017-07-03 12:59:58  192.168.10.17   138.68.46.177       0     43197\n",
       "\n",
       "[529918 rows x 5 columns]"
      ]
     },
     "execution_count": 25,
     "metadata": {},
     "output_type": "execute_result"
    }
   ],
   "source": [
    "train_df_sorted"
   ]
  },
  {
   "cell_type": "code",
   "execution_count": 26,
   "metadata": {},
   "outputs": [
    {
     "name": "stdout",
     "output_type": "stream",
     "text": [
      "<class 'pandas.core.frame.DataFrame'>\n",
      "Int64Index: 2300825 entries, 1699331 to 1054061\n",
      "Data columns (total 4 columns):\n",
      " #   Column           Dtype         \n",
      "---  ------           -----         \n",
      " 0    Timestamp       datetime64[ns]\n",
      " 1    Source IP       object        \n",
      " 2    Destination IP  object        \n",
      " 3    Label           int64         \n",
      "dtypes: datetime64[ns](1), int64(1), object(2)\n",
      "memory usage: 87.8+ MB\n"
     ]
    }
   ],
   "source": [
    "test_df_sorted.info()"
   ]
  },
  {
   "cell_type": "code",
   "execution_count": 27,
   "metadata": {},
   "outputs": [],
   "source": [
    "test_df_sorted['snapshot'] = (test_df_sorted[' Timestamp'] - least_timestamp).dt.total_seconds() / 1\n",
    "test_df_sorted['snapshot'] = test_df_sorted['snapshot'].astype(int)"
   ]
  },
  {
   "cell_type": "code",
   "execution_count": 28,
   "metadata": {},
   "outputs": [
    {
     "data": {
      "text/html": [
       "<div>\n",
       "<style scoped>\n",
       "    .dataframe tbody tr th:only-of-type {\n",
       "        vertical-align: middle;\n",
       "    }\n",
       "\n",
       "    .dataframe tbody tr th {\n",
       "        vertical-align: top;\n",
       "    }\n",
       "\n",
       "    .dataframe thead th {\n",
       "        text-align: right;\n",
       "    }\n",
       "</style>\n",
       "<table border=\"1\" class=\"dataframe\">\n",
       "  <thead>\n",
       "    <tr style=\"text-align: right;\">\n",
       "      <th></th>\n",
       "      <th>Timestamp</th>\n",
       "      <th>Source IP</th>\n",
       "      <th>Destination IP</th>\n",
       "      <th>Label</th>\n",
       "      <th>snapshot</th>\n",
       "    </tr>\n",
       "  </thead>\n",
       "  <tbody>\n",
       "    <tr>\n",
       "      <th>1699331</th>\n",
       "      <td>2017-07-04 01:00:00</td>\n",
       "      <td>192.168.10.8</td>\n",
       "      <td>192.168.10.50</td>\n",
       "      <td>0</td>\n",
       "      <td>86399</td>\n",
       "    </tr>\n",
       "    <tr>\n",
       "      <th>1705069</th>\n",
       "      <td>2017-07-04 01:00:00</td>\n",
       "      <td>192.168.10.12</td>\n",
       "      <td>206.108.0.132</td>\n",
       "      <td>0</td>\n",
       "      <td>86399</td>\n",
       "    </tr>\n",
       "    <tr>\n",
       "      <th>1984953</th>\n",
       "      <td>2017-07-04 01:00:00</td>\n",
       "      <td>192.168.10.50</td>\n",
       "      <td>192.168.10.8</td>\n",
       "      <td>0</td>\n",
       "      <td>86399</td>\n",
       "    </tr>\n",
       "    <tr>\n",
       "      <th>1705066</th>\n",
       "      <td>2017-07-04 01:00:00</td>\n",
       "      <td>192.168.10.19</td>\n",
       "      <td>91.189.89.198</td>\n",
       "      <td>0</td>\n",
       "      <td>86399</td>\n",
       "    </tr>\n",
       "    <tr>\n",
       "      <th>1699279</th>\n",
       "      <td>2017-07-04 01:00:00</td>\n",
       "      <td>192.168.10.9</td>\n",
       "      <td>178.154.131.215</td>\n",
       "      <td>0</td>\n",
       "      <td>86399</td>\n",
       "    </tr>\n",
       "  </tbody>\n",
       "</table>\n",
       "</div>"
      ],
      "text/plain": [
       "                  Timestamp      Source IP   Destination IP   Label  snapshot\n",
       "1699331 2017-07-04 01:00:00   192.168.10.8    192.168.10.50       0     86399\n",
       "1705069 2017-07-04 01:00:00  192.168.10.12    206.108.0.132       0     86399\n",
       "1984953 2017-07-04 01:00:00  192.168.10.50     192.168.10.8       0     86399\n",
       "1705066 2017-07-04 01:00:00  192.168.10.19    91.189.89.198       0     86399\n",
       "1699279 2017-07-04 01:00:00   192.168.10.9  178.154.131.215       0     86399"
      ]
     },
     "execution_count": 28,
     "metadata": {},
     "output_type": "execute_result"
    }
   ],
   "source": [
    "test_df_sorted.head()"
   ]
  },
  {
   "cell_type": "code",
   "execution_count": 29,
   "metadata": {},
   "outputs": [],
   "source": [
    "df_combined = pd.concat([train_df_sorted, test_df_sorted])\n",
    "df_combined = df_combined.reset_index(drop=True)"
   ]
  },
  {
   "cell_type": "code",
   "execution_count": 30,
   "metadata": {},
   "outputs": [],
   "source": [
    "df_combined['snapshot'] = df_combined['snapshot'] // 1"
   ]
  },
  {
   "cell_type": "code",
   "execution_count": 31,
   "metadata": {},
   "outputs": [
    {
     "data": {
      "text/html": [
       "<div>\n",
       "<style scoped>\n",
       "    .dataframe tbody tr th:only-of-type {\n",
       "        vertical-align: middle;\n",
       "    }\n",
       "\n",
       "    .dataframe tbody tr th {\n",
       "        vertical-align: top;\n",
       "    }\n",
       "\n",
       "    .dataframe thead th {\n",
       "        text-align: right;\n",
       "    }\n",
       "</style>\n",
       "<table border=\"1\" class=\"dataframe\">\n",
       "  <thead>\n",
       "    <tr style=\"text-align: right;\">\n",
       "      <th></th>\n",
       "      <th>Timestamp</th>\n",
       "      <th>Source IP</th>\n",
       "      <th>Destination IP</th>\n",
       "      <th>Label</th>\n",
       "      <th>snapshot</th>\n",
       "    </tr>\n",
       "  </thead>\n",
       "  <tbody>\n",
       "    <tr>\n",
       "      <th>0</th>\n",
       "      <td>2017-07-03 01:00:01</td>\n",
       "      <td>192.168.10.3</td>\n",
       "      <td>192.168.10.1</td>\n",
       "      <td>0</td>\n",
       "      <td>0</td>\n",
       "    </tr>\n",
       "    <tr>\n",
       "      <th>1</th>\n",
       "      <td>2017-07-03 01:00:01</td>\n",
       "      <td>23.194.182.12</td>\n",
       "      <td>192.168.10.25</td>\n",
       "      <td>0</td>\n",
       "      <td>0</td>\n",
       "    </tr>\n",
       "    <tr>\n",
       "      <th>2</th>\n",
       "      <td>2017-07-03 01:00:01</td>\n",
       "      <td>192.168.10.25</td>\n",
       "      <td>23.194.182.12</td>\n",
       "      <td>0</td>\n",
       "      <td>0</td>\n",
       "    </tr>\n",
       "    <tr>\n",
       "      <th>3</th>\n",
       "      <td>2017-07-03 01:00:01</td>\n",
       "      <td>192.168.10.25</td>\n",
       "      <td>192.168.10.3</td>\n",
       "      <td>0</td>\n",
       "      <td>0</td>\n",
       "    </tr>\n",
       "    <tr>\n",
       "      <th>4</th>\n",
       "      <td>2017-07-03 01:00:01</td>\n",
       "      <td>8.6.0.1</td>\n",
       "      <td>8.0.6.4</td>\n",
       "      <td>0</td>\n",
       "      <td>0</td>\n",
       "    </tr>\n",
       "    <tr>\n",
       "      <th>...</th>\n",
       "      <td>...</td>\n",
       "      <td>...</td>\n",
       "      <td>...</td>\n",
       "      <td>...</td>\n",
       "      <td>...</td>\n",
       "    </tr>\n",
       "    <tr>\n",
       "      <th>2830738</th>\n",
       "      <td>2017-07-07 12:59:00</td>\n",
       "      <td>192.168.10.3</td>\n",
       "      <td>192.168.10.1</td>\n",
       "      <td>0</td>\n",
       "      <td>388739</td>\n",
       "    </tr>\n",
       "    <tr>\n",
       "      <th>2830739</th>\n",
       "      <td>2017-07-07 12:59:00</td>\n",
       "      <td>192.168.10.9</td>\n",
       "      <td>192.168.10.3</td>\n",
       "      <td>0</td>\n",
       "      <td>388739</td>\n",
       "    </tr>\n",
       "    <tr>\n",
       "      <th>2830740</th>\n",
       "      <td>2017-07-07 12:59:00</td>\n",
       "      <td>192.168.10.9</td>\n",
       "      <td>74.125.22.109</td>\n",
       "      <td>0</td>\n",
       "      <td>388739</td>\n",
       "    </tr>\n",
       "    <tr>\n",
       "      <th>2830741</th>\n",
       "      <td>2017-07-07 12:59:00</td>\n",
       "      <td>192.168.10.51</td>\n",
       "      <td>162.213.33.50</td>\n",
       "      <td>0</td>\n",
       "      <td>388739</td>\n",
       "    </tr>\n",
       "    <tr>\n",
       "      <th>2830742</th>\n",
       "      <td>2017-07-07 12:59:00</td>\n",
       "      <td>192.168.10.17</td>\n",
       "      <td>198.206.133.14</td>\n",
       "      <td>0</td>\n",
       "      <td>388739</td>\n",
       "    </tr>\n",
       "  </tbody>\n",
       "</table>\n",
       "<p>2830743 rows × 5 columns</p>\n",
       "</div>"
      ],
      "text/plain": [
       "                  Timestamp      Source IP  Destination IP   Label  snapshot\n",
       "0       2017-07-03 01:00:01   192.168.10.3    192.168.10.1       0         0\n",
       "1       2017-07-03 01:00:01  23.194.182.12   192.168.10.25       0         0\n",
       "2       2017-07-03 01:00:01  192.168.10.25   23.194.182.12       0         0\n",
       "3       2017-07-03 01:00:01  192.168.10.25    192.168.10.3       0         0\n",
       "4       2017-07-03 01:00:01        8.6.0.1         8.0.6.4       0         0\n",
       "...                     ...            ...             ...     ...       ...\n",
       "2830738 2017-07-07 12:59:00   192.168.10.3    192.168.10.1       0    388739\n",
       "2830739 2017-07-07 12:59:00   192.168.10.9    192.168.10.3       0    388739\n",
       "2830740 2017-07-07 12:59:00   192.168.10.9   74.125.22.109       0    388739\n",
       "2830741 2017-07-07 12:59:00  192.168.10.51   162.213.33.50       0    388739\n",
       "2830742 2017-07-07 12:59:00  192.168.10.17  198.206.133.14       0    388739\n",
       "\n",
       "[2830743 rows x 5 columns]"
      ]
     },
     "execution_count": 31,
     "metadata": {},
     "output_type": "execute_result"
    }
   ],
   "source": [
    "df_combined"
   ]
  },
  {
   "cell_type": "code",
   "execution_count": 32,
   "metadata": {},
   "outputs": [],
   "source": [
    "# Rename columns\n",
    "df_combined = df_combined.rename(columns={\" Source IP\": \"src_computer\", \" Destination IP\": \"dst_computer\", \" Label\": \"label\", \" Timestamp\":\"timestamp\"})\n",
    "\n"
   ]
  },
  {
   "cell_type": "code",
   "execution_count": 33,
   "metadata": {},
   "outputs": [],
   "source": [
    "# Get list of column names\n",
    "cols = df_combined.columns.tolist()\n",
    "# Reorder the columns\n",
    "df_combined = df_combined[cols]"
   ]
  },
  {
   "cell_type": "code",
   "execution_count": null,
   "metadata": {},
   "outputs": [],
   "source": [
    "# Create a dictionary to store the unique numbers\n",
    "node_map = {}\n",
    "\n",
    "# Iterate over the unique IP addresses in the 'src_computer' column\n",
    "for ip in df_combined['src_computer'].unique():\n",
    "    # Assign a unique number to each IP address\n",
    "    node_map[ip] = len(node_map) + 1\n",
    "\n",
    "# Iterate over the unique IP addresses in the 'dst_computer' column\n",
    "for ip in df_combined['dst_computer'].unique():\n",
    "    # Assign a unique number to each IP address\n",
    "    node_map[ip] = len(node_map) + 1\n",
    "\n",
    "# Print the IP dictionary\n",
    "print(node_map)\n"
   ]
  },
  {
   "cell_type": "code",
   "execution_count": null,
   "metadata": {},
   "outputs": [],
   "source": [
    "with open('../data/cicids/node_map.json', 'w') as f:\n",
    "    json.dump(node_map, f)\n",
    "\n"
   ]
  },
  {
   "cell_type": "markdown",
   "metadata": {},
   "source": [
    "## Mapping node ids"
   ]
  },
  {
   "cell_type": "code",
   "execution_count": 36,
   "metadata": {},
   "outputs": [
    {
     "data": {
      "text/plain": [
       "19129"
      ]
     },
     "execution_count": 36,
     "metadata": {},
     "output_type": "execute_result"
    }
   ],
   "source": [
    "len(node_map)"
   ]
  },
  {
   "cell_type": "code",
   "execution_count": 37,
   "metadata": {},
   "outputs": [],
   "source": [
    "test_df_sorted  = test_df_sorted.rename(columns={\" Source IP\": \"src_computer\", \" Destination IP\": \"dst_computer\", \" Label\": \"label\", \" Timestamp\":\"timestamp\"})\n",
    "train_df_sorted  = train_df_sorted.rename(columns={\" Source IP\": \"src_computer\", \" Destination IP\": \"dst_computer\", \" Label\": \"label\", \" Timestamp\":\"timestamp\"})\n"
   ]
  },
  {
   "cell_type": "code",
   "execution_count": 38,
   "metadata": {},
   "outputs": [
    {
     "data": {
      "text/html": [
       "<div>\n",
       "<style scoped>\n",
       "    .dataframe tbody tr th:only-of-type {\n",
       "        vertical-align: middle;\n",
       "    }\n",
       "\n",
       "    .dataframe tbody tr th {\n",
       "        vertical-align: top;\n",
       "    }\n",
       "\n",
       "    .dataframe thead th {\n",
       "        text-align: right;\n",
       "    }\n",
       "</style>\n",
       "<table border=\"1\" class=\"dataframe\">\n",
       "  <thead>\n",
       "    <tr style=\"text-align: right;\">\n",
       "      <th></th>\n",
       "      <th>timestamp</th>\n",
       "      <th>src_computer</th>\n",
       "      <th>dst_computer</th>\n",
       "      <th>label</th>\n",
       "      <th>snapshot</th>\n",
       "    </tr>\n",
       "  </thead>\n",
       "  <tbody>\n",
       "    <tr>\n",
       "      <th>1699331</th>\n",
       "      <td>2017-07-04 01:00:00</td>\n",
       "      <td>192.168.10.8</td>\n",
       "      <td>192.168.10.50</td>\n",
       "      <td>0</td>\n",
       "      <td>86399</td>\n",
       "    </tr>\n",
       "    <tr>\n",
       "      <th>1705069</th>\n",
       "      <td>2017-07-04 01:00:00</td>\n",
       "      <td>192.168.10.12</td>\n",
       "      <td>206.108.0.132</td>\n",
       "      <td>0</td>\n",
       "      <td>86399</td>\n",
       "    </tr>\n",
       "    <tr>\n",
       "      <th>1984953</th>\n",
       "      <td>2017-07-04 01:00:00</td>\n",
       "      <td>192.168.10.50</td>\n",
       "      <td>192.168.10.8</td>\n",
       "      <td>0</td>\n",
       "      <td>86399</td>\n",
       "    </tr>\n",
       "    <tr>\n",
       "      <th>1705066</th>\n",
       "      <td>2017-07-04 01:00:00</td>\n",
       "      <td>192.168.10.19</td>\n",
       "      <td>91.189.89.198</td>\n",
       "      <td>0</td>\n",
       "      <td>86399</td>\n",
       "    </tr>\n",
       "    <tr>\n",
       "      <th>1699279</th>\n",
       "      <td>2017-07-04 01:00:00</td>\n",
       "      <td>192.168.10.9</td>\n",
       "      <td>178.154.131.215</td>\n",
       "      <td>0</td>\n",
       "      <td>86399</td>\n",
       "    </tr>\n",
       "  </tbody>\n",
       "</table>\n",
       "</div>"
      ],
      "text/plain": [
       "                  timestamp   src_computer     dst_computer  label  snapshot\n",
       "1699331 2017-07-04 01:00:00   192.168.10.8    192.168.10.50      0     86399\n",
       "1705069 2017-07-04 01:00:00  192.168.10.12    206.108.0.132      0     86399\n",
       "1984953 2017-07-04 01:00:00  192.168.10.50     192.168.10.8      0     86399\n",
       "1705066 2017-07-04 01:00:00  192.168.10.19    91.189.89.198      0     86399\n",
       "1699279 2017-07-04 01:00:00   192.168.10.9  178.154.131.215      0     86399"
      ]
     },
     "execution_count": 38,
     "metadata": {},
     "output_type": "execute_result"
    }
   ],
   "source": [
    "test_df_sorted.head()"
   ]
  },
  {
   "cell_type": "code",
   "execution_count": 39,
   "metadata": {},
   "outputs": [],
   "source": [
    "train_df_sorted['src_computer'] = train_df_sorted['src_computer'].replace(node_map)\n",
    "train_df_sorted['dst_computer'] = train_df_sorted['dst_computer'].replace(node_map)\n",
    "\n",
    "test_df_sorted['src_computer'] = test_df_sorted['src_computer'].replace(node_map)\n",
    "test_df_sorted['dst_computer'] = test_df_sorted['dst_computer'].replace(node_map)"
   ]
  },
  {
   "cell_type": "code",
   "execution_count": null,
   "metadata": {},
   "outputs": [],
   "source": [
    "train_df_sorted[\"timestamp\"] = train_df_sorted[\"snapshot\"]\n",
    "test_df_sorted[\"timestamp\"] = test_df_sorted['snapshot']"
   ]
  },
  {
   "cell_type": "code",
   "execution_count": 40,
   "metadata": {},
   "outputs": [],
   "source": [
    "train_df_sorted.to_csv('../data/cicids/train.csv',index=False)"
   ]
  },
  {
   "cell_type": "code",
   "execution_count": 41,
   "metadata": {},
   "outputs": [],
   "source": [
    "test_df_sorted.to_csv('../data/cicids/test.csv',index=False)"
   ]
  },
  {
   "cell_type": "code",
   "execution_count": null,
   "metadata": {},
   "outputs": [],
   "source": []
  }
 ],
 "metadata": {
  "kernelspec": {
   "display_name": "myenv",
   "language": "python",
   "name": "python3"
  },
  "language_info": {
   "codemirror_mode": {
    "name": "ipython",
    "version": 3
   },
   "file_extension": ".py",
   "mimetype": "text/x-python",
   "name": "python",
   "nbconvert_exporter": "python",
   "pygments_lexer": "ipython3",
   "version": "3.10.12"
  }
 },
 "nbformat": 4,
 "nbformat_minor": 2
}
